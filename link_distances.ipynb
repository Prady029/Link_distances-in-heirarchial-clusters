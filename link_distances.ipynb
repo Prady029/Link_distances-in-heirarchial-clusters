{
 "cells": [
  {
   "cell_type": "code",
   "execution_count": 2,
   "metadata": {},
   "outputs": [],
   "source": [
    "#basic packages\n",
    "import numpy as np\n",
    "import pandas as pd\n",
    "import matplotlib.pyplot as plt"
   ]
  },
  {
   "cell_type": "code",
   "execution_count": 46,
   "metadata": {},
   "outputs": [],
   "source": [
    "def distance(x,y):\n",
    "    dist=np.sqrt(np.square(x-y))\n",
    "    return dist\n",
    "\n",
    "def keywithmaxval(d):\n",
    "    v=list(d.values())\n",
    "    k=list(d.keys())\n",
    "    return k[v.index(max(v))],max(v),v.index(max(v))\n",
    "\n",
    "def keywithminval(d):\n",
    "    v=list(d.values())\n",
    "    k=list(d.keys())\n",
    "    return k[v.index(min(v))],min(v),v.index(min(v))"
   ]
  },
  {
   "cell_type": "code",
   "execution_count": null,
   "metadata": {},
   "outputs": [],
   "source": [
    "def link_distances(clust1,clust2,link):\n",
    "    dist=[]\n",
    "    \n",
    "    # For centroid-based\n",
    "    def inter_clust(clust):\n",
    "        inter_clust=[]\n",
    "        for j in range(len(clust)):\n",
    "            for k in range(len(clust)):\n",
    "                if j!=k:\n",
    "                    inter_clust.append(distance(clust[j],clust[k]))\n",
    "        \n",
    "        return {str(clust) : inter_clust}\n",
    "                \n",
    "    for i in range(len(clust1)):\n",
    "        i_dist=[]\n",
    "        for j in range(len(clust2)):\n",
    "            i_dist.append(distance(clust1[i],clust2[j]))\n",
    "        dist.append({str(i) : i_dist})\n",
    "     \n",
    "    # For complete-link\n",
    "    if link=='complete':\n",
    "        a,dis,b=keywithmaxval(a)\n",
    "        return max(dis)\n",
    "    \n",
    "    # For single-link\n",
    "    if link=='single':\n",
    "        a1,dis_min,b=keywithminval(a)\n",
    "        return min(dis_min)\n",
    "    \n",
    "    # For centroid-link\n",
    "    if link=='centroid':\n",
    "        return distance(np.mean(inter_clust(clust1)),np.mean(inter_clust(clust2))\n",
    "        \n",
    "    # For average-link\n",
    "    if link=='average':\n",
    "                        \n",
    "        \n",
    "    "
   ]
  }
 ],
 "metadata": {
  "kernelspec": {
   "display_name": "Python 3",
   "language": "python",
   "name": "python3"
  },
  "language_info": {
   "codemirror_mode": {
    "name": "ipython",
    "version": 3
   },
   "file_extension": ".py",
   "mimetype": "text/x-python",
   "name": "python",
   "nbconvert_exporter": "python",
   "pygments_lexer": "ipython3",
   "version": "3.7.4"
  }
 },
 "nbformat": 4,
 "nbformat_minor": 4
}
